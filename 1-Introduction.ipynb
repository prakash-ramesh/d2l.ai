{
 "cells": [
  {
   "cell_type": "code",
   "execution_count": 2,
   "metadata": {},
   "outputs": [],
   "source": [
    "import collections\n",
    "import hashlib\n",
    "import inspect\n",
    "import math\n",
    "import os\n",
    "import random\n",
    "import re\n",
    "import shutil\n",
    "import sys\n",
    "import tarfile\n",
    "import time\n",
    "import zipfile\n",
    "from collections import defaultdict\n",
    "import pandas as pd\n",
    "import requests\n",
    "from IPython import display\n",
    "from matplotlib import pyplot as plt\n",
    "from matplotlib_inline import backend_inline\n",
    "\n",
    "import numpy as np\n",
    "import tensorflow as tf"
   ]
  },
  {
   "cell_type": "code",
   "execution_count": 11,
   "metadata": {},
   "outputs": [
    {
     "name": "stdout",
     "output_type": "stream",
     "text": [
      "Directory Exists.\n"
     ]
    }
   ],
   "source": [
    "os.chdir('d:\\\\My Learnings\\\\udemy-ML\\\\DS & ML - Python\\\\d2l.ai')\n",
    "\n",
    "if not os.path.exists('d2l-en'):\n",
    "    os.mkdir('d2l-en')\n",
    "else:\n",
    "    print('Directory Exists.')\n",
    "\n",
    "os.chdir('d2l-en')"
   ]
  },
  {
   "cell_type": "code",
   "execution_count": 12,
   "metadata": {},
   "outputs": [
    {
     "name": "stdout",
     "output_type": "stream",
     "text": [
      "File Downloaded.\n"
     ]
    }
   ],
   "source": [
    "os.chdir('d:\\\\My Learnings\\\\udemy-ML\\\\DS & ML - Python\\\\d2l.ai')\n",
    "\n",
    "if not os.path.exists('d2l-en/d2l-en.zip'):\n",
    "    r = requests.get('https://d2l.ai/d2l-en-1.0.3.zip', stream=True)\n",
    "    with open('d2l-en/d2l-en.zip', 'wb') as fd:\n",
    "        for chunk in r.iter_content(chunk_size=128):\n",
    "            fd.write(chunk)\n",
    "else:\n",
    "    print('File Downloaded.')"
   ]
  }
 ],
 "metadata": {
  "kernelspec": {
   "display_name": "Python 3",
   "language": "python",
   "name": "python3"
  },
  "language_info": {
   "codemirror_mode": {
    "name": "ipython",
    "version": 3
   },
   "file_extension": ".py",
   "mimetype": "text/x-python",
   "name": "python",
   "nbconvert_exporter": "python",
   "pygments_lexer": "ipython3",
   "version": "3.12.1"
  }
 },
 "nbformat": 4,
 "nbformat_minor": 2
}
